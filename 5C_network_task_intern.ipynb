{
  "nbformat": 4,
  "nbformat_minor": 0,
  "metadata": {
    "colab": {
      "provenance": []
    },
    "kernelspec": {
      "name": "python3",
      "display_name": "Python 3"
    },
    "language_info": {
      "name": "python"
    }
  },
  "cells": [
    {
      "cell_type": "markdown",
      "source": [
        " 1. What is their overall gross margin for their business?"
      ],
      "metadata": {
        "id": "lHwpbgfpZbo5"
      }
    },
    {
      "cell_type": "code",
      "execution_count": null,
      "metadata": {
        "colab": {
          "base_uri": "https://localhost:8080/"
        },
        "id": "akxpCSpGZazg",
        "outputId": "fd0817eb-2489-43e9-ede6-97f831fa76e0"
      },
      "outputs": [
        {
          "output_type": "stream",
          "name": "stdout",
          "text": [
            "Overall gross margin: 23.33%\n"
          ]
        }
      ],
      "source": [
        "import pandas as pd\n",
        "\n",
        "sales_data = pd.read_csv('/content/sales_data_1.csv')\n",
        "gross_profit = sales_data['Selling price'] - sales_data['Buying price']\n",
        "\n",
        "# Calculate the overall gross margin.\n",
        "overall_gross_margin = gross_profit.sum() / sales_data['Selling price'].sum() * 100\n",
        "\n",
        "# Print the overall gross margin.\n",
        "print(f'Overall gross margin: {overall_gross_margin:.2f}%')\n"
      ]
    },
    {
      "cell_type": "markdown",
      "source": [
        "2. Which vendor is the most profitable?\n"
      ],
      "metadata": {
        "id": "FjatZU2tZgJG"
      }
    },
    {
      "cell_type": "code",
      "source": [
        "import pandas as pd\n",
        "vendor_names = sales_data['Firm bought from'].unique()\n",
        "\n",
        "# Calculate the profit margin for each vendor.\n",
        "vendor_profit_margins = []\n",
        "for vendor_name in vendor_names:\n",
        "    vendor_data = sales_data[sales_data['Firm bought from'] == vendor_name]\n",
        "    vendor_profit_margin = (vendor_data['Selling price'].sum() - vendor_data['Buying price'].sum()) / vendor_data['Selling price'].sum() * 100\n",
        "    vendor_profit_margins.append((vendor_name, vendor_profit_margin))\n",
        "vendor_profit_margins.sort(key=lambda x: x[1], reverse=True)\n",
        "most_profitable_vendor = vendor_profit_margins[0][0]\n",
        "print(f'The most profitable vendor is {most_profitable_vendor}.')\n"
      ],
      "metadata": {
        "colab": {
          "base_uri": "https://localhost:8080/"
        },
        "id": "KigseY-GZg3Y",
        "outputId": "9bc14216-ab94-4624-e322-25114eb6693f"
      },
      "execution_count": null,
      "outputs": [
        {
          "output_type": "stream",
          "name": "stdout",
          "text": [
            "The most profitable vendor is Vendor9.\n"
          ]
        }
      ]
    },
    {
      "cell_type": "markdown",
      "source": [
        "3. Which customer is the least profitable?"
      ],
      "metadata": {
        "id": "Ysqz_q3SdzRC"
      }
    },
    {
      "cell_type": "code",
      "source": [
        "customer_names = sales_data['Customer'].unique()\n",
        "\n",
        "# Calculate the profit for each customer.\n",
        "customer_profit = []\n",
        "for customer_name in customer_names:\n",
        "    customer_data = sales_data[sales_data['Customer'] == customer_name]\n",
        "    customer_profit.append((customer_name, customer_data['Selling price'].sum() - customer_data['Buying price'].sum()))\n",
        "customer_profit.sort(key=lambda x: x[1])\n",
        "least_possible_customer = customer_profit[0][0]\n",
        "print(f'The least possible customer is {least_possible_customer}.')\n"
      ],
      "metadata": {
        "colab": {
          "base_uri": "https://localhost:8080/"
        },
        "id": "V5sYhaGGbjb5",
        "outputId": "336a65a9-8e2b-422a-c209-651cbd39e086"
      },
      "execution_count": null,
      "outputs": [
        {
          "output_type": "stream",
          "name": "stdout",
          "text": [
            "The least possible customer is Customer9.\n"
          ]
        }
      ]
    },
    {
      "cell_type": "markdown",
      "source": [
        "4. Which day of the week was most profitable for them?\n"
      ],
      "metadata": {
        "id": "jaI2R1BueTVx"
      }
    },
    {
      "cell_type": "code",
      "source": [
        "import pandas as pd\n",
        "df = pd.read_csv('/content/sales_data_1.csv')\n",
        "df['date'] = pd.to_datetime(df['Date'])\n",
        "df['profit'] = (df['Selling price'] - df['Buying price']) * df['Quantity sold']\n",
        "df['day_of_week'] = df['date'].dt.day_name()\n",
        "profit_by_day = df.groupby('day_of_week')['profit'].sum().reset_index()\n",
        "most_profitable_day = profit_by_day[profit_by_day['profit'] == profit_by_day['profit'].max()]\n",
        "print(\"The most profitable day of the week is:\")\n",
        "print(most_profitable_day)"
      ],
      "metadata": {
        "colab": {
          "base_uri": "https://localhost:8080/"
        },
        "id": "O8AEy98qhB2p",
        "outputId": "63e383b4-0ff7-45fc-cce1-a19a91b4cc12"
      },
      "execution_count": null,
      "outputs": [
        {
          "output_type": "stream",
          "name": "stdout",
          "text": [
            "The most profitable day of the week is:\n",
            "  day_of_week   profit\n",
            "1      Monday  6847.34\n"
          ]
        }
      ]
    },
    {
      "cell_type": "markdown",
      "source": [
        "5. Which day of the week was the least profitable for them?"
      ],
      "metadata": {
        "id": "qb7-Gv8Tibo7"
      }
    },
    {
      "cell_type": "code",
      "source": [
        "df['date'] = pd.to_datetime(df['Date'])\n",
        "df['profit'] = (df['Selling price'] - df['Buying price']) * df['Quantity sold']\n",
        "df['day_of_week'] = df['date'].dt.day_name()\n",
        "profit_by_day = df.groupby('day_of_week')['profit'].sum().reset_index()\n",
        "least_profitable_day = profit_by_day[profit_by_day['profit'] == profit_by_day['profit'].min()]\n",
        "least_profitable_day_data = df[df['day_of_week'] == least_profitable_day.iloc[0]['day_of_week']]\n",
        "print(\"The least profitable day of the week is:\")\n",
        "print(least_profitable_day)\n",
        "print(least_profitable_day_data)"
      ],
      "metadata": {
        "colab": {
          "base_uri": "https://localhost:8080/"
        },
        "id": "vQZScOwmiY8Y",
        "outputId": "ddf1622d-36f9-40ee-f981-87fe834f931f"
      },
      "execution_count": null,
      "outputs": [
        {
          "output_type": "stream",
          "name": "stdout",
          "text": [
            "The least profitable day of the week is:\n",
            "  day_of_week   profit\n",
            "3      Sunday  3086.46\n",
            "        Date Firm bought from  Buying price   Customer  Selling price  \\\n",
            "60  27/08/23          Vendor2         57.20  Customer7          63.08   \n",
            "61  27/08/23          Vendor9         57.37  Customer2          72.03   \n",
            "62  27/08/23          Vendor4         68.27  Customer4         100.62   \n",
            "63  27/08/23          Vendor4         83.76  Customer3          96.10   \n",
            "64  27/08/23          Vendor9         77.18  Customer4         104.27   \n",
            "65  27/08/23          Vendor4         64.82  Customer6          87.45   \n",
            "66  27/08/23          Vendor8         88.79  Customer3         105.59   \n",
            "67  27/08/23          Vendor5         63.30  Customer5          92.92   \n",
            "68  27/08/23          Vendor5         94.06  Customer5         125.67   \n",
            "69  27/08/23          Vendor5         56.28  Customer6          82.16   \n",
            "\n",
            "    Quantity sold       date   profit day_of_week  \n",
            "60             16 2023-08-27    94.08      Sunday  \n",
            "61              8 2023-08-27   117.28      Sunday  \n",
            "62              1 2023-08-27    32.35      Sunday  \n",
            "63              7 2023-08-27    86.38      Sunday  \n",
            "64             43 2023-08-27  1164.87      Sunday  \n",
            "65             18 2023-08-27   407.34      Sunday  \n",
            "66              5 2023-08-27    84.00      Sunday  \n",
            "67             32 2023-08-27   947.84      Sunday  \n",
            "68              4 2023-08-27   126.44      Sunday  \n",
            "69              1 2023-08-27    25.88      Sunday  \n"
          ]
        }
      ]
    },
    {
      "cell_type": "markdown",
      "source": [
        "6. Can you calculate a 3-day average of the daily gross profit from the sales_data_2.csv?\n"
      ],
      "metadata": {
        "id": "2QLUoOaTjXgU"
      }
    },
    {
      "cell_type": "code",
      "source": [
        "df = pd.read_csv('/content/sales_data_2.csv')\n",
        "df['date'] = pd.to_datetime(df['Date'])\n",
        "df['daily_profit'] = (df['Selling price'] - df['Buying price']) * df['Quantity sold']\n",
        "df['3-day_avg_profit'] = df['daily_profit'].rolling(window=3).mean()\n",
        "print(df[['date', 'daily_profit', '3-day_avg_profit']])\n"
      ],
      "metadata": {
        "colab": {
          "base_uri": "https://localhost:8080/"
        },
        "id": "EuPzJqM5jjrN",
        "outputId": "8c1645e6-53fb-4576-fdbc-00d3450a6abf"
      },
      "execution_count": null,
      "outputs": [
        {
          "output_type": "stream",
          "name": "stdout",
          "text": [
            "         date  daily_profit  3-day_avg_profit\n",
            "0  2023-08-21        856.68               NaN\n",
            "1  2023-08-21        146.71               NaN\n",
            "2  2023-08-21        297.45        433.613333\n",
            "3  2023-08-21         87.64        177.266667\n",
            "4  2023-08-21         42.01        142.366667\n",
            "..        ...           ...               ...\n",
            "65 2023-08-27        407.34        552.863333\n",
            "66 2023-08-27         84.00        552.070000\n",
            "67 2023-08-27        947.84        479.726667\n",
            "68 2023-08-27        126.44        386.093333\n",
            "69 2023-08-27         25.88        366.720000\n",
            "\n",
            "[70 rows x 3 columns]\n"
          ]
        }
      ]
    },
    {
      "cell_type": "markdown",
      "source": [
        "7. Additionally, provide insights into how this 3-day trend changes over the time period covered in the dataset.\n"
      ],
      "metadata": {
        "id": "5o4sRKeWkncg"
      }
    },
    {
      "cell_type": "code",
      "source": [
        "import matplotlib.pyplot as plt\n",
        "df['date'] = pd.to_datetime(df['Date'])\n",
        "df['daily_profit'] = (df['Selling price'] - df['Buying price']) * df['Quantity sold']\n",
        "df['3-day_avg_profit'] = df['daily_profit'].rolling(window=3).mean()\n",
        "plt.figure(figsize=(10, 5))\n",
        "plt.plot(df['date'], df['3-day_avg_profit'], label='3-Day Avg. Profit')\n",
        "plt.title('3-Day Moving Average of Daily Profit Over Time')\n",
        "plt.xlabel('Date')\n",
        "plt.ylabel('Average Profit')\n",
        "plt.legend()\n",
        "plt.grid(True)\n",
        "plt.show()\n"
      ],
      "metadata": {
        "colab": {
          "base_uri": "https://localhost:8080/",
          "height": 487
        },
        "id": "LWiPMBCdkn30",
        "outputId": "790bebb3-774f-45fd-a881-e9b22514bb8c"
      },
      "execution_count": null,
      "outputs": [
        {
          "output_type": "display_data",
          "data": {
            "text/plain": [
              "<Figure size 1000x500 with 1 Axes>"
            ],
            "image/png": "[encoded data removed]"
          },
          "metadata": {}
        }
      ]
    },
    {
      "cell_type": "markdown",
      "source": [
        "8. Can you optimize the sales process to ensure gross margin is maximized?\n",
        "  "
      ],
      "metadata": {
        "id": "Af9ihDPylOOr"
      }
    },
    {
      "cell_type": "code",
      "source": [
        "vendor_cogs = df.groupby('Firm bought from')['Buying price'].sum()\n",
        "vendor_gross_margin = (df.groupby('Firm bought from')['Selling price'].sum() - vendor_cogs) / (sales_data.groupby('Firm bought from')['Selling price'].sum()) * 100\n",
        "print(vendor_gross_margin)\n",
        "customer_cogs = df.groupby('Customer')['Buying price'].sum()\n",
        "customer_gross_margin = (df.groupby('Customer')['Selling price'].sum() - customer_cogs) / (df.groupby('Customer')['Selling price'].sum()) * 100\n",
        "print(customer_gross_margin)\n"
      ],
      "metadata": {
        "colab": {
          "base_uri": "https://localhost:8080/"
        },
        "id": "IC_O2BE9o3_3",
        "outputId": "4d411b29-03ed-4dd6-9547-46470d6a154c"
      },
      "execution_count": null,
      "outputs": [
        {
          "output_type": "stream",
          "name": "stdout",
          "text": [
            "Firm bought from\n",
            "Vendor1     21.327831\n",
            "Vendor10    25.009843\n",
            "Vendor2     23.012427\n",
            "Vendor3     26.788408\n",
            "Vendor4     22.948144\n",
            "Vendor5     22.169579\n",
            "Vendor6     21.141691\n",
            "Vendor7     21.342516\n",
            "Vendor8     17.670961\n",
            "Vendor9     27.511695\n",
            "dtype: float64\n",
            "Customer\n",
            "Customer1     24.544613\n",
            "Customer10    23.792550\n",
            "Customer2     24.649121\n",
            "Customer3     19.079598\n",
            "Customer4     23.265896\n",
            "Customer5     26.442968\n",
            "Customer6     25.664237\n",
            "Customer7     18.379576\n",
            "Customer8     24.512424\n",
            "Customer9     23.275166\n",
            "dtype: float64\n"
          ]
        }
      ]
    },
    {
      "cell_type": "markdown",
      "source": [
        "9. To ensure competitive pricing, Ram wants to benchmark their buying and selling prices against the market. Could you calculate the 25th, 50th (median), and 75th percentiles for both buying and selling prices?"
      ],
      "metadata": {
        "id": "P0SfzwC8pfYE"
      }
    },
    {
      "cell_type": "code",
      "source": [
        "buying_price_percentiles = df['Buying price'].quantile([0.25, 0.5, 0.75])\n",
        "print(\"Buying price percentiles:\")\n",
        "print(buying_price_percentiles)\n",
        "selling_price_percentiles = df['Selling price'].quantile([0.25, 0.5, 0.75])\n",
        "print(\"Selling price percentiles:\")\n",
        "print(selling_price_percentiles)"
      ],
      "metadata": {
        "colab": {
          "base_uri": "https://localhost:8080/"
        },
        "id": "8VObLSNzpsNl",
        "outputId": "9d999896-af62-4bb4-85cd-bb95f025c573"
      },
      "execution_count": null,
      "outputs": [
        {
          "output_type": "stream",
          "name": "stdout",
          "text": [
            "Buying price percentiles:\n",
            "0.25    29.90\n",
            "0.50    60.76\n",
            "0.75    78.32\n",
            "Name: Buying price, dtype: float64\n",
            "Selling price percentiles:\n",
            "0.25     38.9750\n",
            "0.50     78.9900\n",
            "0.75    103.3975\n",
            "Name: Selling price, dtype: float64\n"
          ]
        }
      ]
    },
    {
      "cell_type": "markdown",
      "source": [
        "10. Additionally, analyze how often the Sapota’s prices fall below the 25th percentile or above the 75th percentile, potentially indicating they are buying at a high price or selling at a low price relative to their own transaction history."
      ],
      "metadata": {
        "id": "m3-LHhk1qBii"
      }
    },
    {
      "cell_type": "code",
      "source": [
        "sapota_buying_price_percentiles = df[df['Firm bought from'] == 'Sapota']['Buying price'].quantile([0.25, 0.75])\n",
        "sapota_selling_price_percentiles = df[df['Firm bought from'] == 'Sapota']['Selling price'].quantile([0.25, 0.75])\n",
        "sapota_buying_prices_below_25th_percentile = 0\n",
        "if len(df[df['Firm bought from'] == 'Sapota']['Buying price']) > 0:\n",
        "    sapota_buying_prices_below_25th_percentile = len(df[df['Firm bought from'] == 'Sapota']['Buying price'] < sapota_buying_price_percentiles[0.25]) / len(df[df['Firm bought from'] == 'Sapota']['Buying price'])\n",
        "sapota_selling_prices_below_25th_percentile = 0\n",
        "if len(df[df['Firm bought from'] == 'Sapota']['Selling price']) > 0:\n",
        "    sapota_selling_prices_below_25th_percentile = len(df[df['Firm bought from'] == 'Sapota']['Selling price'] < sapota_selling_price_percentiles[0.25]) / len(df[df['Firm bought from'] == 'Sapota']['Selling price'])\n",
        "sapota_buying_prices_above_75th_percentile = 0\n",
        "if len(df[df['Firm bought from'] == 'Sapota']['Buying price']) > 0:\n",
        "    sapota_buying_prices_above_75th_percentile = len(df[df['Firm bought from'] == 'Sapota']['Buying price'] > sapota_buying_price_percentiles[0.75]) / len(df[df['Firm bought from'] == 'Sapota']['Buying price'])\n",
        "sapota_selling_prices_above_75th_percentile = 0\n",
        "if len(df[df['Firm bought from'] == 'Sapota']['Selling price']) > 0:\n",
        "    sapota_selling_prices_above_75th_percentile = len(df[df['Firm bought from'] == 'Sapota']['Selling price'] > sapota_selling_price_percentiles[0.75]) / len(df[df['Firm bought from'] == 'Sapota']['Selling price'])\n",
        "\n",
        "print(\"Sapota's buying prices below the 25th percentile:\", sapota_buying_prices_below_25th_percentile)\n",
        "print(\"Sapota's selling prices below the 25th percentile:\", sapota_selling_prices_below_25th_percentile)\n",
        "print(\"Sapota's buying prices above the 75th percentile:\", sapota_buying_prices_above_75th_percentile)\n",
        "print(\"Sapota's selling prices above the 75th percentile:\", sapota_selling_prices_above_75th_percentile)\n"
      ],
      "metadata": {
        "colab": {
          "base_uri": "https://localhost:8080/"
        },
        "id": "hzJkNnUTsTv1",
        "outputId": "ccfbcf8a-261f-4371-ec12-994efd49f60a"
      },
      "execution_count": null,
      "outputs": [
        {
          "output_type": "stream",
          "name": "stdout",
          "text": [
            "Sapota's buying prices below the 25th percentile: 0\n",
            "Sapota's selling prices below the 25th percentile: 0\n",
            "Sapota's buying prices above the 75th percentile: 0\n",
            "Sapota's selling prices above the 75th percentile: 0\n"
          ]
        }
      ]
    },
    {
      "cell_type": "markdown",
      "source": [
        "11. Bharath says that Vendor 4 has to be honored.  What impact does it have on your optimal gross margin?"
      ],
      "metadata": {
        "id": "lDpDt9v4sa3Q"
      }
    },
    {
      "cell_type": "code",
      "source": [
        "vendor_gross_margin = df.groupby('Firm bought from')['Buying price'].sum() / df.groupby('Firm bought from')['Selling price'].sum() * 100\n",
        "vendor_4_gross_margin = vendor_gross_margin['Vendor4']\n",
        "optimal_gross_margin = vendor_gross_margin.max()\n",
        "impact_of_honoring_vendor_4 = optimal_gross_margin - vendor_4_gross_margin\n",
        "print(\"Impact of honoring Vendor 4 on optimal gross margin:\", impact_of_honoring_vendor_4)\n"
      ],
      "metadata": {
        "colab": {
          "base_uri": "https://localhost:8080/"
        },
        "id": "C-kOpXDksZ1g",
        "outputId": "166693b4-7e3e-4e5c-fab2-6fb4c7d6897a"
      },
      "execution_count": null,
      "outputs": [
        {
          "output_type": "stream",
          "name": "stdout",
          "text": [
            "Impact of honoring Vendor 4 on optimal gross margin: 5.277182403479841\n"
          ]
        }
      ]
    },
    {
      "cell_type": "markdown",
      "source": [
        "12. Which vendor should we have a strategic tie up so that we source only from them (the goal here is to have the highest gross margin)\n",
        "    "
      ],
      "metadata": {
        "id": "z_bPsZfstMIB"
      }
    },
    {
      "cell_type": "code",
      "source": [
        "vendor_gross_margin = df.groupby('Firm bought from')['Buying price'].sum() / df.groupby('Firm bought from')['Selling price'].sum() * 100\n",
        "vendor_with_highest_gross_margin = vendor_gross_margin.idxmax()\n",
        "theoretical_max_margin = 100 - vendor_gross_margin[vendor_with_highest_gross_margin]\n",
        "print(\"Vendor with the highest gross margin:\", vendor_with_highest_gross_margin)\n",
        "print(\"Theoretical max margin:\", theoretical_max_margin)\n"
      ],
      "metadata": {
        "colab": {
          "base_uri": "https://localhost:8080/"
        },
        "id": "jhP1dNIotWs6",
        "outputId": "170e35d3-7c35-48ff-b4f3-3a61b4f69d81"
      },
      "execution_count": null,
      "outputs": [
        {
          "output_type": "stream",
          "name": "stdout",
          "text": [
            "Vendor with the highest gross margin: Vendor8\n",
            "Theoretical max margin: 17.67096134786918\n"
          ]
        }
      ]
    },
    {
      "cell_type": "markdown",
      "source": [
        "13. Given this is the ground truth, what is the price elasticity of Sapota for that branch? (If you increase by Rs.1, how much sales will go up/down and if you decrease price by Rs. 1, how much sales will go up/down)"
      ],
      "metadata": {
        "id": "1i6ORoCAuGNM"
      }
    },
    {
      "cell_type": "code",
      "source": [
        "total_revenue_per_day = df.groupby('Date')['Selling price'].sum()\n",
        "average_selling_price_per_day = total_revenue_per_day / df.groupby('Date')['Quantity sold'].sum()\n",
        "price_elasticity_of_demand = (average_selling_price_per_day.pct_change() / average_selling_price_per_day.shift(1)) / (total_revenue_per_day.pct_change() / total_revenue_per_day.shift(1))\n",
        "print(price_elasticity_of_demand)\n"
      ],
      "metadata": {
        "colab": {
          "base_uri": "https://localhost:8080/"
        },
        "id": "Zuxk0d4xu7gD",
        "outputId": "86d62464-0223-460f-bdad-c8b6db9557e3"
      },
      "execution_count": null,
      "outputs": [
        {
          "output_type": "stream",
          "name": "stdout",
          "text": [
            "Date\n",
            "2023-08-21            NaN\n",
            "2023-08-22     -44.066048\n",
            "2023-08-23       5.744513\n",
            "2023-08-24     393.287140\n",
            "2023-08-25     632.945946\n",
            "2023-08-26     294.050048\n",
            "2023-08-27    2114.394422\n",
            "dtype: float64\n"
          ]
        }
      ]
    },
    {
      "cell_type": "code",
      "source": [
        "impact_of_price_increase = price_elasticity_of_demand * 1\n",
        "impact_of_price_decrease = price_elasticity_of_demand * -1\n",
        "print(\"Impact of a Rs. 1 increase in the selling price on sales:\", impact_of_price_increase)\n",
        "print(\"Impact of a Rs. 1 decrease in the selling price on sales:\", impact_of_price_decrease)\n"
      ],
      "metadata": {
        "id": "2TtEHXN6wX5a",
        "outputId": "3ea7139e-ad65-4364-be9c-afd1d3ae0ebd",
        "colab": {
          "base_uri": "https://localhost:8080/"
        }
      },
      "execution_count": null,
      "outputs": [
        {
          "output_type": "stream",
          "name": "stdout",
          "text": [
            "Impact of a Rs. 1 increase in the selling price on sales: Date\n",
            "2023-08-21            NaN\n",
            "2023-08-22     -44.066048\n",
            "2023-08-23       5.744513\n",
            "2023-08-24     393.287140\n",
            "2023-08-25     632.945946\n",
            "2023-08-26     294.050048\n",
            "2023-08-27    2114.394422\n",
            "dtype: float64\n",
            "Impact of a Rs. 1 decrease in the selling price on sales: Date\n",
            "2023-08-21            NaN\n",
            "2023-08-22      44.066048\n",
            "2023-08-23      -5.744513\n",
            "2023-08-24    -393.287140\n",
            "2023-08-25    -632.945946\n",
            "2023-08-26    -294.050048\n",
            "2023-08-27   -2114.394422\n",
            "dtype: float64\n"
          ]
        }
      ]
    }
  ]
}